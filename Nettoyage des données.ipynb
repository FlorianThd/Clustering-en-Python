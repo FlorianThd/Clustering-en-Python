{
 "cells": [
  {
   "cell_type": "markdown",
   "id": "a101aeb5",
   "metadata": {},
   "source": [
    "## Imports des librairies"
   ]
  },
  {
   "cell_type": "code",
   "execution_count": 1,
   "id": "e4926904",
   "metadata": {},
   "outputs": [],
   "source": [
    "# librairies générales\n",
    "import pandas as pd\n",
    "import numpy as np\n",
    "\n",
    "# librairies pour visualisation\n",
    "import matplotlib.pyplot as plt\n",
    "import seaborn as sns\n",
    "from seaborn import pairplot, heatmap"
   ]
  },
  {
   "cell_type": "markdown",
   "id": "b2efd100",
   "metadata": {},
   "source": [
    "## Import des données"
   ]
  },
  {
   "cell_type": "markdown",
   "id": "92f1d75f",
   "metadata": {},
   "source": [
    "Les données ont été importées en format CSV, puis manipulées à l'aide d'un tableur.<br/>\n",
    "On importe ici une version déjà écrémée avec uniquement les données pertinentes et sous forme quantitative."
   ]
  },
  {
   "cell_type": "code",
   "execution_count": 2,
   "id": "6087e0ee",
   "metadata": {},
   "outputs": [],
   "source": [
    "df = pd.read_csv('df.csv')"
   ]
  },
  {
   "cell_type": "markdown",
   "id": "4f749a50",
   "metadata": {},
   "source": [
    "Explorons les données :"
   ]
  },
  {
   "cell_type": "code",
   "execution_count": 3,
   "id": "2df45c46",
   "metadata": {},
   "outputs": [
    {
     "data": {
      "text/html": [
       "<div>\n",
       "<style scoped>\n",
       "    .dataframe tbody tr th:only-of-type {\n",
       "        vertical-align: middle;\n",
       "    }\n",
       "\n",
       "    .dataframe tbody tr th {\n",
       "        vertical-align: top;\n",
       "    }\n",
       "\n",
       "    .dataframe thead th {\n",
       "        text-align: right;\n",
       "    }\n",
       "</style>\n",
       "<table border=\"1\" class=\"dataframe\">\n",
       "  <thead>\n",
       "    <tr style=\"text-align: right;\">\n",
       "      <th></th>\n",
       "      <th>code_ISO</th>\n",
       "      <th>pays</th>\n",
       "      <th>conso_vol_hab</th>\n",
       "      <th>ratio_vol</th>\n",
       "      <th>imp_vol_hab</th>\n",
       "      <th>pib_hab</th>\n",
       "      <th>pol</th>\n",
       "      <th>pop</th>\n",
       "      <th>km</th>\n",
       "    </tr>\n",
       "  </thead>\n",
       "  <tbody>\n",
       "    <tr>\n",
       "      <th>0</th>\n",
       "      <td>AFG</td>\n",
       "      <td>Afghanistan</td>\n",
       "      <td>1,52</td>\n",
       "      <td>0,18</td>\n",
       "      <td>0,80</td>\n",
       "      <td>584,39</td>\n",
       "      <td>-2,76</td>\n",
       "      <td>36296113</td>\n",
       "      <td>4909</td>\n",
       "    </tr>\n",
       "    <tr>\n",
       "      <th>1</th>\n",
       "      <td>ZAF</td>\n",
       "      <td>Afrique du Sud</td>\n",
       "      <td>35,70</td>\n",
       "      <td>0,59</td>\n",
       "      <td>9,02</td>\n",
       "      <td>6189,29</td>\n",
       "      <td>-0,23</td>\n",
       "      <td>57009756</td>\n",
       "      <td>8851</td>\n",
       "    </tr>\n",
       "    <tr>\n",
       "      <th>2</th>\n",
       "      <td>ALB</td>\n",
       "      <td>Albanie</td>\n",
       "      <td>16,30</td>\n",
       "      <td>0,35</td>\n",
       "      <td>13,18</td>\n",
       "      <td>4543,39</td>\n",
       "      <td>0,37</td>\n",
       "      <td>2884169</td>\n",
       "      <td>1522</td>\n",
       "    </tr>\n",
       "    <tr>\n",
       "      <th>3</th>\n",
       "      <td>DZA</td>\n",
       "      <td>Algérie</td>\n",
       "      <td>6,38</td>\n",
       "      <td>0,35</td>\n",
       "      <td>0,05</td>\n",
       "      <td>4153,00</td>\n",
       "      <td>-0,84</td>\n",
       "      <td>41389189</td>\n",
       "      <td>1354</td>\n",
       "    </tr>\n",
       "    <tr>\n",
       "      <th>4</th>\n",
       "      <td>DEU</td>\n",
       "      <td>Allemagne</td>\n",
       "      <td>19,47</td>\n",
       "      <td>0,22</td>\n",
       "      <td>10,19</td>\n",
       "      <td>43284,60</td>\n",
       "      <td>0,59</td>\n",
       "      <td>82658409</td>\n",
       "      <td>545</td>\n",
       "    </tr>\n",
       "  </tbody>\n",
       "</table>\n",
       "</div>"
      ],
      "text/plain": [
       "  code_ISO            pays conso_vol_hab ratio_vol imp_vol_hab   pib_hab  \\\n",
       "0      AFG     Afghanistan          1,52      0,18        0,80    584,39   \n",
       "1      ZAF  Afrique du Sud         35,70      0,59        9,02   6189,29   \n",
       "2      ALB         Albanie         16,30      0,35       13,18   4543,39   \n",
       "3      DZA         Algérie          6,38      0,35        0,05   4153,00   \n",
       "4      DEU       Allemagne         19,47      0,22       10,19  43284,60   \n",
       "\n",
       "     pol       pop    km  \n",
       "0  -2,76  36296113  4909  \n",
       "1  -0,23  57009756  8851  \n",
       "2   0,37   2884169  1522  \n",
       "3  -0,84  41389189  1354  \n",
       "4   0,59  82658409   545  "
      ]
     },
     "execution_count": 3,
     "metadata": {},
     "output_type": "execute_result"
    }
   ],
   "source": [
    "df.head()"
   ]
  },
  {
   "cell_type": "code",
   "execution_count": 4,
   "id": "b697468a",
   "metadata": {},
   "outputs": [],
   "source": [
    "# on fait quelques ajustements :\n",
    "df = df.drop(columns=['code_ISO'])\n",
    "df = df.set_index('pays')"
   ]
  },
  {
   "cell_type": "code",
   "execution_count": 5,
   "id": "ed79e716",
   "metadata": {},
   "outputs": [
    {
     "data": {
      "text/html": [
       "<div>\n",
       "<style scoped>\n",
       "    .dataframe tbody tr th:only-of-type {\n",
       "        vertical-align: middle;\n",
       "    }\n",
       "\n",
       "    .dataframe tbody tr th {\n",
       "        vertical-align: top;\n",
       "    }\n",
       "\n",
       "    .dataframe thead th {\n",
       "        text-align: right;\n",
       "    }\n",
       "</style>\n",
       "<table border=\"1\" class=\"dataframe\">\n",
       "  <thead>\n",
       "    <tr style=\"text-align: right;\">\n",
       "      <th></th>\n",
       "      <th>conso_vol_hab</th>\n",
       "      <th>ratio_vol</th>\n",
       "      <th>imp_vol_hab</th>\n",
       "      <th>pib_hab</th>\n",
       "      <th>pol</th>\n",
       "      <th>pop</th>\n",
       "      <th>km</th>\n",
       "    </tr>\n",
       "    <tr>\n",
       "      <th>pays</th>\n",
       "      <th></th>\n",
       "      <th></th>\n",
       "      <th></th>\n",
       "      <th></th>\n",
       "      <th></th>\n",
       "      <th></th>\n",
       "      <th></th>\n",
       "    </tr>\n",
       "  </thead>\n",
       "  <tbody>\n",
       "    <tr>\n",
       "      <th>Afghanistan</th>\n",
       "      <td>1,52</td>\n",
       "      <td>0,18</td>\n",
       "      <td>0,80</td>\n",
       "      <td>584,39</td>\n",
       "      <td>-2,76</td>\n",
       "      <td>36296113</td>\n",
       "      <td>4909</td>\n",
       "    </tr>\n",
       "    <tr>\n",
       "      <th>Afrique du Sud</th>\n",
       "      <td>35,70</td>\n",
       "      <td>0,59</td>\n",
       "      <td>9,02</td>\n",
       "      <td>6189,29</td>\n",
       "      <td>-0,23</td>\n",
       "      <td>57009756</td>\n",
       "      <td>8851</td>\n",
       "    </tr>\n",
       "    <tr>\n",
       "      <th>Albanie</th>\n",
       "      <td>16,30</td>\n",
       "      <td>0,35</td>\n",
       "      <td>13,18</td>\n",
       "      <td>4543,39</td>\n",
       "      <td>0,37</td>\n",
       "      <td>2884169</td>\n",
       "      <td>1522</td>\n",
       "    </tr>\n",
       "    <tr>\n",
       "      <th>Algérie</th>\n",
       "      <td>6,38</td>\n",
       "      <td>0,35</td>\n",
       "      <td>0,05</td>\n",
       "      <td>4153,00</td>\n",
       "      <td>-0,84</td>\n",
       "      <td>41389189</td>\n",
       "      <td>1354</td>\n",
       "    </tr>\n",
       "    <tr>\n",
       "      <th>Allemagne</th>\n",
       "      <td>19,47</td>\n",
       "      <td>0,22</td>\n",
       "      <td>10,19</td>\n",
       "      <td>43284,60</td>\n",
       "      <td>0,59</td>\n",
       "      <td>82658409</td>\n",
       "      <td>545</td>\n",
       "    </tr>\n",
       "  </tbody>\n",
       "</table>\n",
       "</div>"
      ],
      "text/plain": [
       "               conso_vol_hab ratio_vol imp_vol_hab   pib_hab    pol       pop  \\\n",
       "pays                                                                            \n",
       "Afghanistan             1,52      0,18        0,80    584,39  -2,76  36296113   \n",
       "Afrique du Sud         35,70      0,59        9,02   6189,29  -0,23  57009756   \n",
       "Albanie                16,30      0,35       13,18   4543,39   0,37   2884169   \n",
       "Algérie                 6,38      0,35        0,05   4153,00  -0,84  41389189   \n",
       "Allemagne              19,47      0,22       10,19  43284,60   0,59  82658409   \n",
       "\n",
       "                  km  \n",
       "pays                  \n",
       "Afghanistan     4909  \n",
       "Afrique du Sud  8851  \n",
       "Albanie         1522  \n",
       "Algérie         1354  \n",
       "Allemagne        545  "
      ]
     },
     "execution_count": 5,
     "metadata": {},
     "output_type": "execute_result"
    }
   ],
   "source": [
    "df.head()"
   ]
  },
  {
   "cell_type": "code",
   "execution_count": 6,
   "id": "cc8b3558",
   "metadata": {},
   "outputs": [
    {
     "data": {
      "text/plain": [
       "(156, 7)"
      ]
     },
     "execution_count": 6,
     "metadata": {},
     "output_type": "execute_result"
    }
   ],
   "source": [
    "df.shape"
   ]
  },
  {
   "cell_type": "code",
   "execution_count": 7,
   "id": "c0153d76",
   "metadata": {},
   "outputs": [
    {
     "name": "stdout",
     "output_type": "stream",
     "text": [
      "<class 'pandas.core.frame.DataFrame'>\n",
      "Index: 156 entries, Afghanistan to Zambie\n",
      "Data columns (total 7 columns):\n",
      " #   Column         Non-Null Count  Dtype \n",
      "---  ------         --------------  ----- \n",
      " 0   conso_vol_hab  156 non-null    object\n",
      " 1   ratio_vol      156 non-null    object\n",
      " 2   imp_vol_hab    156 non-null    object\n",
      " 3   pib_hab        153 non-null    object\n",
      " 4   pol            156 non-null    object\n",
      " 5   pop            156 non-null    int64 \n",
      " 6   km             156 non-null    int64 \n",
      "dtypes: int64(2), object(5)\n",
      "memory usage: 9.8+ KB\n"
     ]
    }
   ],
   "source": [
    "df.info()"
   ]
  },
  {
   "cell_type": "markdown",
   "id": "d894cd99",
   "metadata": {},
   "source": [
    "On constate qu'il y a des valeurs manquantes pour la variable pib_hab et pour la variable tax.\n",
    "De plus certaines valeurs numériques sont en type 'objet'. Convertissons-les."
   ]
  },
  {
   "cell_type": "code",
   "execution_count": 8,
   "id": "24a56b8d",
   "metadata": {},
   "outputs": [],
   "source": [
    "df = df.astype({\"conso_vol_hab\": str, \"ratio_vol\": str,\"imp_vol_hab\": str,\"pib_hab\": str, \"pol\": str})\n",
    "cols_to_convert = ['conso_vol_hab','ratio_vol', 'imp_vol_hab','pib_hab', 'pol']\n",
    "df[cols_to_convert] = df[cols_to_convert].apply(lambda x: x.str.replace(',', '.')).astype(float)"
   ]
  },
  {
   "cell_type": "code",
   "execution_count": 9,
   "id": "1f9f4497",
   "metadata": {},
   "outputs": [
    {
     "data": {
      "text/html": [
       "<div>\n",
       "<style scoped>\n",
       "    .dataframe tbody tr th:only-of-type {\n",
       "        vertical-align: middle;\n",
       "    }\n",
       "\n",
       "    .dataframe tbody tr th {\n",
       "        vertical-align: top;\n",
       "    }\n",
       "\n",
       "    .dataframe thead th {\n",
       "        text-align: right;\n",
       "    }\n",
       "</style>\n",
       "<table border=\"1\" class=\"dataframe\">\n",
       "  <thead>\n",
       "    <tr style=\"text-align: right;\">\n",
       "      <th></th>\n",
       "      <th>conso_vol_hab</th>\n",
       "      <th>ratio_vol</th>\n",
       "      <th>imp_vol_hab</th>\n",
       "      <th>pib_hab</th>\n",
       "      <th>pol</th>\n",
       "      <th>pop</th>\n",
       "      <th>km</th>\n",
       "    </tr>\n",
       "    <tr>\n",
       "      <th>pays</th>\n",
       "      <th></th>\n",
       "      <th></th>\n",
       "      <th></th>\n",
       "      <th></th>\n",
       "      <th></th>\n",
       "      <th></th>\n",
       "      <th></th>\n",
       "    </tr>\n",
       "  </thead>\n",
       "  <tbody>\n",
       "    <tr>\n",
       "      <th>Afghanistan</th>\n",
       "      <td>1.52</td>\n",
       "      <td>0.18</td>\n",
       "      <td>0.80</td>\n",
       "      <td>584.39</td>\n",
       "      <td>-2.76</td>\n",
       "      <td>36296113</td>\n",
       "      <td>4909</td>\n",
       "    </tr>\n",
       "    <tr>\n",
       "      <th>Afrique du Sud</th>\n",
       "      <td>35.70</td>\n",
       "      <td>0.59</td>\n",
       "      <td>9.02</td>\n",
       "      <td>6189.29</td>\n",
       "      <td>-0.23</td>\n",
       "      <td>57009756</td>\n",
       "      <td>8851</td>\n",
       "    </tr>\n",
       "    <tr>\n",
       "      <th>Albanie</th>\n",
       "      <td>16.30</td>\n",
       "      <td>0.35</td>\n",
       "      <td>13.18</td>\n",
       "      <td>4543.39</td>\n",
       "      <td>0.37</td>\n",
       "      <td>2884169</td>\n",
       "      <td>1522</td>\n",
       "    </tr>\n",
       "    <tr>\n",
       "      <th>Algérie</th>\n",
       "      <td>6.38</td>\n",
       "      <td>0.35</td>\n",
       "      <td>0.05</td>\n",
       "      <td>4153.00</td>\n",
       "      <td>-0.84</td>\n",
       "      <td>41389189</td>\n",
       "      <td>1354</td>\n",
       "    </tr>\n",
       "    <tr>\n",
       "      <th>Allemagne</th>\n",
       "      <td>19.47</td>\n",
       "      <td>0.22</td>\n",
       "      <td>10.19</td>\n",
       "      <td>43284.60</td>\n",
       "      <td>0.59</td>\n",
       "      <td>82658409</td>\n",
       "      <td>545</td>\n",
       "    </tr>\n",
       "  </tbody>\n",
       "</table>\n",
       "</div>"
      ],
      "text/plain": [
       "                conso_vol_hab  ratio_vol  imp_vol_hab   pib_hab   pol  \\\n",
       "pays                                                                    \n",
       "Afghanistan              1.52       0.18         0.80    584.39 -2.76   \n",
       "Afrique du Sud          35.70       0.59         9.02   6189.29 -0.23   \n",
       "Albanie                 16.30       0.35        13.18   4543.39  0.37   \n",
       "Algérie                  6.38       0.35         0.05   4153.00 -0.84   \n",
       "Allemagne               19.47       0.22        10.19  43284.60  0.59   \n",
       "\n",
       "                     pop    km  \n",
       "pays                            \n",
       "Afghanistan     36296113  4909  \n",
       "Afrique du Sud  57009756  8851  \n",
       "Albanie          2884169  1522  \n",
       "Algérie         41389189  1354  \n",
       "Allemagne       82658409   545  "
      ]
     },
     "execution_count": 9,
     "metadata": {},
     "output_type": "execute_result"
    }
   ],
   "source": [
    "df.head()"
   ]
  },
  {
   "cell_type": "markdown",
   "id": "72a5a580",
   "metadata": {},
   "source": [
    "On recherche ensuite quelles peuvent être les corrélations existantes entre les variables :"
   ]
  },
  {
   "cell_type": "code",
   "execution_count": 10,
   "id": "cbe60608",
   "metadata": {},
   "outputs": [
    {
     "data": {
      "text/html": [
       "<div>\n",
       "<style scoped>\n",
       "    .dataframe tbody tr th:only-of-type {\n",
       "        vertical-align: middle;\n",
       "    }\n",
       "\n",
       "    .dataframe tbody tr th {\n",
       "        vertical-align: top;\n",
       "    }\n",
       "\n",
       "    .dataframe thead th {\n",
       "        text-align: right;\n",
       "    }\n",
       "</style>\n",
       "<table border=\"1\" class=\"dataframe\">\n",
       "  <thead>\n",
       "    <tr style=\"text-align: right;\">\n",
       "      <th></th>\n",
       "      <th>conso_vol_hab</th>\n",
       "      <th>ratio_vol</th>\n",
       "      <th>imp_vol_hab</th>\n",
       "      <th>pib_hab</th>\n",
       "      <th>pol</th>\n",
       "      <th>pop</th>\n",
       "      <th>km</th>\n",
       "    </tr>\n",
       "  </thead>\n",
       "  <tbody>\n",
       "    <tr>\n",
       "      <th>conso_vol_hab</th>\n",
       "      <td>1.000000</td>\n",
       "      <td>0.592765</td>\n",
       "      <td>0.492543</td>\n",
       "      <td>0.363437</td>\n",
       "      <td>0.395265</td>\n",
       "      <td>-0.074932</td>\n",
       "      <td>0.122570</td>\n",
       "    </tr>\n",
       "    <tr>\n",
       "      <th>ratio_vol</th>\n",
       "      <td>0.592765</td>\n",
       "      <td>1.000000</td>\n",
       "      <td>0.218434</td>\n",
       "      <td>-0.107296</td>\n",
       "      <td>0.022119</td>\n",
       "      <td>0.059688</td>\n",
       "      <td>0.218941</td>\n",
       "    </tr>\n",
       "    <tr>\n",
       "      <th>imp_vol_hab</th>\n",
       "      <td>0.492543</td>\n",
       "      <td>0.218434</td>\n",
       "      <td>1.000000</td>\n",
       "      <td>0.234501</td>\n",
       "      <td>0.360317</td>\n",
       "      <td>-0.132718</td>\n",
       "      <td>0.036397</td>\n",
       "    </tr>\n",
       "    <tr>\n",
       "      <th>pib_hab</th>\n",
       "      <td>0.363437</td>\n",
       "      <td>-0.107296</td>\n",
       "      <td>0.234501</td>\n",
       "      <td>1.000000</td>\n",
       "      <td>0.556034</td>\n",
       "      <td>-0.043167</td>\n",
       "      <td>-0.247685</td>\n",
       "    </tr>\n",
       "    <tr>\n",
       "      <th>pol</th>\n",
       "      <td>0.395265</td>\n",
       "      <td>0.022119</td>\n",
       "      <td>0.360317</td>\n",
       "      <td>0.556034</td>\n",
       "      <td>1.000000</td>\n",
       "      <td>-0.200043</td>\n",
       "      <td>0.066072</td>\n",
       "    </tr>\n",
       "    <tr>\n",
       "      <th>pop</th>\n",
       "      <td>-0.074932</td>\n",
       "      <td>0.059688</td>\n",
       "      <td>-0.132718</td>\n",
       "      <td>-0.043167</td>\n",
       "      <td>-0.200043</td>\n",
       "      <td>1.000000</td>\n",
       "      <td>0.052675</td>\n",
       "    </tr>\n",
       "    <tr>\n",
       "      <th>km</th>\n",
       "      <td>0.122570</td>\n",
       "      <td>0.218941</td>\n",
       "      <td>0.036397</td>\n",
       "      <td>-0.247685</td>\n",
       "      <td>0.066072</td>\n",
       "      <td>0.052675</td>\n",
       "      <td>1.000000</td>\n",
       "    </tr>\n",
       "  </tbody>\n",
       "</table>\n",
       "</div>"
      ],
      "text/plain": [
       "               conso_vol_hab  ratio_vol  imp_vol_hab   pib_hab       pol  \\\n",
       "conso_vol_hab       1.000000   0.592765     0.492543  0.363437  0.395265   \n",
       "ratio_vol           0.592765   1.000000     0.218434 -0.107296  0.022119   \n",
       "imp_vol_hab         0.492543   0.218434     1.000000  0.234501  0.360317   \n",
       "pib_hab             0.363437  -0.107296     0.234501  1.000000  0.556034   \n",
       "pol                 0.395265   0.022119     0.360317  0.556034  1.000000   \n",
       "pop                -0.074932   0.059688    -0.132718 -0.043167 -0.200043   \n",
       "km                  0.122570   0.218941     0.036397 -0.247685  0.066072   \n",
       "\n",
       "                    pop        km  \n",
       "conso_vol_hab -0.074932  0.122570  \n",
       "ratio_vol      0.059688  0.218941  \n",
       "imp_vol_hab   -0.132718  0.036397  \n",
       "pib_hab       -0.043167 -0.247685  \n",
       "pol           -0.200043  0.066072  \n",
       "pop            1.000000  0.052675  \n",
       "km             0.052675  1.000000  "
      ]
     },
     "execution_count": 10,
     "metadata": {},
     "output_type": "execute_result"
    }
   ],
   "source": [
    "df.corr()"
   ]
  },
  {
   "cell_type": "markdown",
   "id": "fd5fc0ed",
   "metadata": {},
   "source": [
    "Rendons cela plus visuel via une carte de chaleur :"
   ]
  },
  {
   "cell_type": "code",
   "execution_count": 11,
   "id": "76cf1ccc",
   "metadata": {},
   "outputs": [],
   "source": [
    "cp = df.corr()"
   ]
  },
  {
   "cell_type": "code",
   "execution_count": 12,
   "id": "7549df2c",
   "metadata": {
    "scrolled": false
   },
   "outputs": [
    {
     "data": {
      "image/png": "[encoded data removed]",
      "text/plain": [
       "<Figure size 640x480 with 2 Axes>"
      ]
     },
     "metadata": {},
     "output_type": "display_data"
    },
    {
     "data": {
      "text/plain": [
       "<Figure size 1000x800 with 0 Axes>"
      ]
     },
     "metadata": {},
     "output_type": "display_data"
    }
   ],
   "source": [
    "heatmap(cp, annot=True, cmap=\"RdBu\",annot_kws={\"size\": 7, \"weight\": \"bold\"})\n",
    "plt.figure(figsize = (10,8))\n",
    "plt.show()"
   ]
  },
  {
   "cell_type": "markdown",
   "id": "402bb52d",
   "metadata": {},
   "source": [
    "On exporte ensuite le dataframe sous format CSV qui nous servira pour les clusterings :"
   ]
  },
  {
   "cell_type": "code",
   "execution_count": 13,
   "id": "e788e83e",
   "metadata": {},
   "outputs": [],
   "source": [
    "df.to_csv(\"df1.csv\")"
   ]
  }
 ],
 "metadata": {
  "kernelspec": {
   "display_name": "Python 3 (ipykernel)",
   "language": "python",
   "name": "python3"
  },
  "language_info": {
   "codemirror_mode": {
    "name": "ipython",
    "version": 3
   },
   "file_extension": ".py",
   "mimetype": "text/x-python",
   "name": "python",
   "nbconvert_exporter": "python",
   "pygments_lexer": "ipython3",
   "version": "3.9.13"
  },
  "toc": {
   "base_numbering": 1,
   "nav_menu": {
    "height": "253px",
    "width": "295px"
   },
   "number_sections": true,
   "sideBar": true,
   "skip_h1_title": false,
   "title_cell": "Table of Contents",
   "title_sidebar": "Contents",
   "toc_cell": false,
   "toc_position": {
    "height": "435px",
    "left": "27px",
    "top": "60px",
    "width": "255px"
   },
   "toc_section_display": true,
   "toc_window_display": true
  }
 },
 "nbformat": 4,
 "nbformat_minor": 5
}
